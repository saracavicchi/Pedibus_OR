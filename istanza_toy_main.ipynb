{
 "cells": [
  {
   "cell_type": "code",
   "execution_count": null,
   "metadata": {},
   "outputs": [],
   "source": [
    "from crea_visualizza_istanza import *\n",
    "from istanza_small import *\n",
    "from istanza_media import *\n",
    "\n",
    "\n",
    "delta_toy = 1.5\n",
    "    G_toy, residui_dict_toy = generate_instance(num_bambini=10, pos_min=5, pos_max=50, seed=10, delta= delta_toy)\n",
    "    plot_graph(G_toy, 'grafo_toy.png')\n",
    "\n",
    "\n",
    "\n",
    "    #Stampo i nodi e le relative posizioni\n",
    "    for node, data in G_toy.nodes(data=True):\n",
    "        print(f\"Nodo: {node}, Posizione: {data['pos']}, Massima Distanza: {data['max_distance']}\")\n",
    "\n",
    "    #print(\"\\n\")\n",
    "\n",
    "    #Stampo gli archi e i relativi pesi\n",
    "    #for u, v, data in G_small.edges(data=True):\n",
    "    #    print(f\"Arco: {u} - {v}, Peso: {data['weight']}\")\n",
    "\n",
    "    percorsi_sub_NN, sub_NN_obj_val, residui_dict_toy_sub_NN = subsequent_nearest_neighbour(G_toy, residui_dict_toy, delta_toy)\n",
    "    stampa_percorsi(percorsi_sub_NN)\n",
    "    print(f\"Funzione obiettivo: {sub_NN_obj_val}\")\n",
    "    check_solution(percorsi_sub_NN, G_toy, delta_toy)\n",
    "    plot_graph_results( G_toy, percorsi_sub_NN, 'G_toy_results')"
   ]
  }
 ],
 "metadata": {
  "language_info": {
   "name": "python"
  }
 },
 "nbformat": 4,
 "nbformat_minor": 2
}
