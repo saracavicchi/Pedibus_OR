{
 "cells": [
  {
   "cell_type": "code",
   "execution_count": null,
   "metadata": {},
   "outputs": [],
   "source": [
    "from crea_visualizza_istanza import *\n",
    "from controlli_ammissibilita import *\n",
    "from greedy import *\n",
    "from local_search import *\n",
    "from greedy_rand import *\n",
    "from grasp import *\n",
    "from tabu_search import *\n",
    "from iterated_local_search import *\n",
    "from visualizza_grafici import *\n",
    "from clark_wright import *\n",
    "\n",
    "\n",
    "## Istanza Media\n",
    "\n",
    "delta_medium = 1.5\n",
    "G_medium, residui_dict_medium = generate_instance(num_bambini=500, pos_min=5, pos_max=50, seed=3, delta= delta_medium)\n",
    "#plot_graph(G_medium, 'grafo_dim_ridotte.png')\n",
    "\n",
    "\n",
    "#Stampo i nodi e le relative posizioni\n",
    "for node, data in G_medium.nodes(data=True):\n",
    "    print(f\"Nodo: {node}, Posizione: {data['pos']}, Massima Distanza: {data['max_distance']}\")\n",
    "\n",
    "#print(\"\\n\")\n",
    "\n",
    "#Stampo gli archi e i relativi pesi\n",
    "#for u, v, data in G_medium.edges(data=True):\n",
    "#    print(f\"Arco: {u} - {v}, Peso: {data['weight']}\")\n",
    "\n",
    "subsequentNN = []\n",
    "schoolNN = []\n",
    "ls_subsequentNN = []\n",
    "ls_schoolNN = []\n",
    "grasp_subsequentNN = []\n",
    "grasp_schoolNN = []\n",
    "Ils_subsequentNN = []\n",
    "Ils_schoolNN = []\n",
    "grasp_bI = []\n",
    "tabu = []\n",
    "ils_bI = []\n",
    "times_medium = []\n"
   ]
  },
  {
   "cell_type": "code",
   "execution_count": null,
   "metadata": {},
   "outputs": [],
   "source": [
    "\n",
    "### Greedy medium\n",
    "\n",
    "(percorsi_sub_NN, sub_NN_obj_val, residui_dict_medium_sub_NN), time = subsequent_nearest_neighbour(G_medium, residui_dict_medium, delta_medium)\n",
    "stampa_percorsi(percorsi_sub_NN)\n",
    "print(f\"Funzione obiettivo: {sub_NN_obj_val}\")\n",
    "check_solution(percorsi_sub_NN, G_medium, delta_medium)\n",
    "subsequentNN.append(sub_NN_obj_val)\n",
    "times_medium.append(time)\n"
   ]
  },
  {
   "cell_type": "code",
   "execution_count": null,
   "metadata": {},
   "outputs": [],
   "source": [
    "\n",
    "(percorsi_sch_NN, sch_NN_obj_val, residui_dict_medium_sch_NN), time = school_nearest_neighbour(G_medium, residui_dict_medium, delta_medium)\n",
    "#stampa_percorsi(percorsi_sch_NN)\n",
    "print(f\"Funzione obiettivo: {sch_NN_obj_val}\")\n",
    "check_solution(percorsi_sch_NN, G_medium, delta_medium)\n",
    "schoolNN.append(sch_NN_obj_val)\n",
    "times_medium.append(time)\n"
   ]
  },
  {
   "cell_type": "code",
   "execution_count": null,
   "metadata": {},
   "outputs": [],
   "source": [
    "\n",
    "(percorsi_sub_NN_R, sub_NN_R_obj_val, residui_dict_medium_sub_NN_R), time = subsequent_nearest_neighbour_randomized(G_medium, residui_dict_medium, delta_medium, k=3)\n",
    "#stampa_percorsi(percorsi_sub_NN)\n",
    "print(f\"Funzione obiettivo: {sub_NN_R_obj_val}\")\n",
    "check_solution(percorsi_sub_NN_R, G_medium, delta_medium)\n",
    "subsequentNN.append(sub_NN_R_obj_val)\n",
    "times_medium.append(time)\n"
   ]
  },
  {
   "cell_type": "code",
   "execution_count": null,
   "metadata": {},
   "outputs": [],
   "source": [
    "\n",
    "(percorsi_sch_NN_R, sch_NN_R_obj_val, residui_dict_medium_sch_NN_R), time = school_nearest_neighbour_randomized(G_medium, residui_dict_medium, delta_medium, k=3)\n",
    "#stampa_percorsi(percorsi_sch_NN_R)\n",
    "print(f\"Funzione obiettivo: {sch_NN_R_obj_val}\")\n",
    "check_solution(percorsi_sch_NN_R, G_medium, delta_medium)\n",
    "schoolNN.append(sch_NN_R_obj_val)\n",
    "times_medium.append(time)\n",
    "\n"
   ]
  },
  {
   "cell_type": "code",
   "execution_count": null,
   "metadata": {},
   "outputs": [],
   "source": [
    "plotSubSchResults(subsequentNN, schoolNN, \"Greedy\", 'greedy_medium.png')\n",
    "\n",
    "#percorsi_cw, cw_obj_val, residui_dict_medium_cw = clark_wright(G_medium, residui_dict_medium, delta_medium)\n",
    "#stampa_percorsi(percorsi_cw)\n",
    "#print(f\"Funzione obiettivo: {cw_obj_val}\")\n",
    "#check_solution(percorsi_cw, G_medium, delta_medium)\n",
    "\n",
    "### Local Search medium\n",
    "\n",
    "#percorsi_ls_bI, ls_bI_obj_val, residui_dict_medium_sub_ls_bI = local_search_bI(G_medium, residui_dict_medium_cw, percorsi_cw, cw_obj_val, delta_medium, max_len=6)\n",
    "#stampa_percorsi(percorsi_ls_bI)\n",
    "#print(f\"Funzione obiettivo: {ls_bI_obj_val}\")\n",
    "#check_solution(percorsi_ls_bI, G_medium, delta_medium)\n",
    "\n"
   ]
  },
  {
   "cell_type": "code",
   "execution_count": null,
   "metadata": {},
   "outputs": [],
   "source": [
    "(percorsi_ls_bI, ls_bI_obj_val, residui_dict_medium_sub_ls_bI), time = local_search_bI(G_medium, residui_dict_medium_sub_NN, percorsi_sub_NN, sub_NN_obj_val, delta_medium, max_len=6)\n",
    "#stampa_percorsi(percorsi_ls_bI)\n",
    "print(f\"Funzione obiettivo: {ls_bI_obj_val}\")\n",
    "check_solution(percorsi_ls_bI, G_medium, delta_medium)\n",
    "ls_subsequentNN.append(ls_bI_obj_val)\n",
    "times_medium.append(time)\n",
    "\n"
   ]
  },
  {
   "cell_type": "code",
   "execution_count": null,
   "metadata": {},
   "outputs": [],
   "source": [
    "(percorsi_ls_bI, ls_bI_obj_val, residui_dict_medium_ls_sch_bI), time = local_search_bI(G_medium, residui_dict_medium_sch_NN, percorsi_sch_NN, sch_NN_obj_val, delta_medium, max_len=5)\n",
    "#stampa_percorsi(percorsi_ls_bI)\n",
    "print(f\"Funzione obiettivo: {ls_bI_obj_val}\")\n",
    "check_solution(percorsi_ls_bI, G_medium, delta_medium)\n",
    "ls_schoolNN.append(ls_bI_obj_val)\n",
    "times_medium.append(time)"
   ]
  },
  {
   "cell_type": "code",
   "execution_count": null,
   "metadata": {},
   "outputs": [],
   "source": [
    "(percorsi_sub_ls_fI, sub_ls_fI_obj_val, residui_dict_medium_sub_ls_fI), time = local_search_fI(G_medium, residui_dict_medium_sub_NN, percorsi_sub_NN, sub_NN_obj_val, delta_medium, max_len=5)\n",
    "#stampa_percorsi(percorsi_ls_fI)\n",
    "print(f\"Funzione obiettivo: {sub_ls_fI_obj_val}\")\n",
    "check_solution(percorsi_sub_ls_fI, G_medium, delta_medium)\n",
    "ls_subsequentNN.append(sub_ls_fI_obj_val)\n",
    "times_medium.append(time)"
   ]
  },
  {
   "cell_type": "code",
   "execution_count": null,
   "metadata": {},
   "outputs": [],
   "source": [
    "(percorsi_sch_ls_fI, sch_ls_fI_obj_val, residui_dict_medium_sch_ls_fI), time = local_search_fI(G_medium, residui_dict_medium_sch_NN, percorsi_sch_NN, sch_NN_obj_val, delta_medium, max_len=5)\n",
    "#stampa_percorsi(percorsi_ls_bI)\n",
    "print(f\"Funzione obiettivo: {sch_ls_fI_obj_val}\")\n",
    "check_solution(percorsi_sch_ls_fI, G_medium, delta_medium)\n",
    "ls_schoolNN.append(sch_ls_fI_obj_val)\n",
    "times_medium.append(time)"
   ]
  },
  {
   "cell_type": "code",
   "execution_count": null,
   "metadata": {},
   "outputs": [],
   "source": [
    "\n",
    "plotSubSchResults(ls_subsequentNN, ls_schoolNN, 'Ls', 'ls_medium.png')"
   ]
  },
  {
   "cell_type": "markdown",
   "metadata": {},
   "source": [
    "### Grasp medium"
   ]
  },
  {
   "cell_type": "code",
   "execution_count": null,
   "metadata": {},
   "outputs": [],
   "source": [
    "\n",
    "(percorsi_G_sub_NN_bI, G_sub_NN_bI_obj_val, residui_dict_medium_G_sub_NN_bI), time = GRASP_subsequent_NN(G_medium, residui_dict_medium, delta_medium, k=2, num_greedy=500, ls=\"local_search_bI\", max_len=5)\n",
    "#stampa_percorsi(percorsi_G_sub_NN_bI)\n",
    "print(f\"Funzione obiettivo: {G_sub_NN_bI_obj_val}\")\n",
    "check_solution(percorsi_G_sub_NN_bI, G_medium, delta_medium)\n",
    "grasp_subsequentNN.append(G_sub_NN_bI_obj_val)\n",
    "grasp_bI.append(G_sub_NN_bI_obj_val)\n",
    "times_medium.append(time)"
   ]
  },
  {
   "cell_type": "code",
   "execution_count": null,
   "metadata": {},
   "outputs": [],
   "source": [
    "(percorsi_G_sch_bI, G_sch_bI_obj_val, residui_dict_medium_G_sch_NN_bI), time = GRASP_School_NN(G_medium, residui_dict_medium, delta_medium, k=2, num_greedy=500, ls=\"local_search_bI\", max_len=5)\n",
    "#stampa_percorsi(percorsi_G_sch_bI)\n",
    "print(f\"Funzione obiettivo: {G_sch_bI_obj_val}\")\n",
    "check_solution(percorsi_G_sch_bI, G_medium, delta_medium)\n",
    "grasp_schoolNN.append(G_sch_bI_obj_val)\n",
    "grasp_bI.append(G_sch_bI_obj_val)\n",
    "times_medium.append(time)"
   ]
  },
  {
   "cell_type": "code",
   "execution_count": null,
   "metadata": {},
   "outputs": [],
   "source": [
    "(percorsi_G_sub_NN_fI, G_sub_NN_fI_obj_val, residui_dict_medium_G_sub_NN_fI), time = GRASP_subsequent_NN(G_medium, residui_dict_medium, delta_medium, k=2, num_greedy=500, ls=\"local_search_fI\", max_len=5)\n",
    "#stampa_percorsi(percorsi_G_sub_NN_fI)\n",
    "print(f\"Funzione obiettivo: {G_sub_NN_fI_obj_val}\")\n",
    "check_solution(percorsi_G_sub_NN_fI, G_medium, delta_medium)\n",
    "grasp_subsequentNN.append(G_sub_NN_fI_obj_val)\n",
    "times_medium.append(time)"
   ]
  },
  {
   "cell_type": "code",
   "execution_count": null,
   "metadata": {},
   "outputs": [],
   "source": [
    "(percorsi_G_sch_fI, G_sch_fI_obj_val, residui_dict_medium_G_sch_NN_fI), time = GRASP_School_NN(G_medium, residui_dict_medium, delta_medium, k=2, num_greedy=500, ls=\"local_search_fI\", max_len=5)\n",
    "#stampa_percorsi(percorsi_G_sch_fI)\n",
    "print(f\"Funzione obiettivo: {G_sch_fI_obj_val}\")\n",
    "check_solution(percorsi_G_sch_fI, G_medium, delta_medium)\n",
    "grasp_schoolNN.append(G_sch_fI_obj_val)\n",
    "times_medium.append(time)"
   ]
  },
  {
   "cell_type": "code",
   "execution_count": null,
   "metadata": {},
   "outputs": [],
   "source": [
    "plotSubSchResults(grasp_subsequentNN, grasp_schoolNN, 'GRASP', 'grasp_medium.png')"
   ]
  },
  {
   "cell_type": "markdown",
   "metadata": {},
   "source": [
    "### Tabu Search medium"
   ]
  },
  {
   "cell_type": "code",
   "execution_count": null,
   "metadata": {},
   "outputs": [],
   "source": [
    "\n",
    "(percorsi_tabu_sub, tabu_sub_obj_val, residui_dict_medium_tabu_sub), time = tabu_search_bI(G_medium, residui_dict_medium_sub_NN, percorsi_sub_NN, sub_NN_obj_val, delta_medium, max_len=5)\n",
    "#stampa_percorsi(percorsi_sub_NN)\n",
    "print(f\"Funzione obiettivo: {tabu_sub_obj_val}\")\n",
    "check_solution(percorsi_tabu_sub, G_medium, delta_medium)\n",
    "tabu.append(tabu_sub_obj_val)\n",
    "times_medium.append(time)"
   ]
  },
  {
   "cell_type": "code",
   "execution_count": null,
   "metadata": {},
   "outputs": [],
   "source": [
    "(percorsi_tabu_sch, tabu_sch_obj_val, residui_dict_medium_tabu_sch), time = tabu_search_bI(G_medium, residui_dict_medium_sch_NN, percorsi_sch_NN, sch_NN_obj_val, delta_medium, max_len=5)\n",
    "#stampa_percorsi(percorsi_sub_NN)\n",
    "print(f\"Funzione obiettivo: {tabu_sch_obj_val}\")\n",
    "check_solution(percorsi_tabu_sch, G_medium, delta_medium)\n",
    "tabu.append(tabu_sch_obj_val)\n",
    "times_medium.append(time)"
   ]
  },
  {
   "cell_type": "markdown",
   "metadata": {},
   "source": [
    "### Iterated Search medium"
   ]
  },
  {
   "cell_type": "code",
   "execution_count": null,
   "metadata": {},
   "outputs": [],
   "source": [
    "\n",
    "(percorsi_ILS_sub_bI, ILS_sub_bI_obj_val, residui_dict_medium_ILS_sub_bI), time = iterated_local_search(G_medium, residui_dict_medium_sub_NN, percorsi_sub_NN, sub_NN_obj_val, delta_medium, max_len=5, ls=\"local_search_bI\")\n",
    "#stampa_percorsi(percorsi_sub_NN)\n",
    "print(f\"Funzione obiettivo: {ILS_sub_bI_obj_val}\")\n",
    "check_solution(percorsi_ILS_sub_bI, G_medium, delta_medium)\n",
    "Ils_subsequentNN.append(ILS_sub_bI_obj_val)\n",
    "ils_bI.append(ILS_sub_bI_obj_val)\n",
    "times_medium.append(time)"
   ]
  },
  {
   "cell_type": "code",
   "execution_count": null,
   "metadata": {},
   "outputs": [],
   "source": [
    "(percorsi_ILS_sub_fI, ILS_sub_fI_obj_val, residui_dict_medium_ILS_sub_fI), time = iterated_local_search(G_medium, residui_dict_medium_sub_NN, percorsi_sub_NN, sub_NN_obj_val, delta_medium, max_len=5, ls=\"local_search_fI\")\n",
    "#stampa_percorsi(percorsi_sub_NN)\n",
    "print(f\"Funzione obiettivo: {ILS_sub_fI_obj_val}\")\n",
    "check_solution(percorsi_ILS_sub_fI, G_medium, delta_medium)\n",
    "Ils_subsequentNN.append(ILS_sub_fI_obj_val)\n",
    "times_medium.append(time)"
   ]
  },
  {
   "cell_type": "code",
   "execution_count": null,
   "metadata": {},
   "outputs": [],
   "source": [
    "(percorsi_ILS_sch_bI, ILS_sch_bI_obj_val, residui_dict_medium_ILS_sch_bI), time = iterated_local_search(G_medium, residui_dict_medium_sch_NN, percorsi_sch_NN, sch_NN_obj_val, delta_medium, max_len=5, ls=\"local_search_bI\")\n",
    "#stampa_percorsi(percorsi_sub_NN)\n",
    "print(f\"Funzione obiettivo: {ILS_sch_bI_obj_val}\")\n",
    "check_solution(percorsi_ILS_sch_bI, G_medium, delta_medium)\n",
    "Ils_schoolNN.append(ILS_sch_bI_obj_val)\n",
    "ils_bI.append(ILS_sch_bI_obj_val)\n",
    "times_medium.append(time)"
   ]
  },
  {
   "cell_type": "code",
   "execution_count": null,
   "metadata": {},
   "outputs": [],
   "source": [
    "(percorsi_ILS_sch_fI, ILS_sch_fI_obj_val, residui_dict_medium_ILS_sch_fI), time = iterated_local_search(G_medium, residui_dict_medium_sch_NN, percorsi_sch_NN, sch_NN_obj_val, delta_medium, max_len=5, ls=\"local_search_fI\")\n",
    "#stampa_percorsi(percorsi_sub_NN)\n",
    "print(f\"Funzione obiettivo: {ILS_sch_fI_obj_val}\")\n",
    "check_solution(percorsi_ILS_sch_fI, G_medium, delta_medium)\n",
    "Ils_schoolNN.append(ILS_sch_fI_obj_val)\n",
    "times_medium.append(time)"
   ]
  },
  {
   "cell_type": "code",
   "execution_count": null,
   "metadata": {},
   "outputs": [],
   "source": [
    "plotSubSchResults(Ils_subsequentNN, Ils_schoolNN, 'ILS', 'ils_medium.png')\n",
    "\n",
    "plotMetaheuristicsResults(grasp_bI, tabu, ils_bI, 'metaheuristics_medium.png')"
   ]
  }
 ],
 "metadata": {
  "language_info": {
   "name": "python"
  }
 },
 "nbformat": 4,
 "nbformat_minor": 2
}
